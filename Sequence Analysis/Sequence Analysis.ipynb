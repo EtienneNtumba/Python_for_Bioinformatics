{
 "cells": [
  {
   "attachments": {},
   "cell_type": "markdown",
   "metadata": {},
   "source": [
    "# Reading and Writing Sequences"
   ]
  },
  {
   "cell_type": "code",
   "execution_count": 2,
   "metadata": {},
   "outputs": [
    {
     "name": "stdout",
     "output_type": "stream",
     "text": [
      "Defaulting to user installation because normal site-packages is not writeable\n",
      "Collecting Bio\n",
      "  Downloading bio-1.6.0-py3-none-any.whl (279 kB)\n",
      "\u001b[2K     \u001b[38;2;114;156;31m━━━━━━━━━━━━━━━━━━━━━━━━━━━━━━━━━━━━━━━\u001b[0m \u001b[32m279.4/279.4 KB\u001b[0m \u001b[31m5.5 MB/s\u001b[0m eta \u001b[36m0:00:00\u001b[0m MB/s\u001b[0m eta \u001b[36m0:00:01\u001b[0m\n",
      "\u001b[?25hRequirement already satisfied: requests in /usr/local/lib/python3.10/dist-packages (from Bio) (2.31.0)\n",
      "Collecting biopython>=1.80\n",
      "  Downloading biopython-1.81-cp310-cp310-manylinux_2_17_x86_64.manylinux2014_x86_64.whl (3.1 MB)\n",
      "\u001b[2K     \u001b[38;2;114;156;31m━━━━━━━━━━━━━━━━━━━━━━━━━━━━━━━━━━━━━━━━\u001b[0m \u001b[32m3.1/3.1 MB\u001b[0m \u001b[31m13.7 MB/s\u001b[0m eta \u001b[36m0:00:00\u001b[0m MB/s\u001b[0m eta \u001b[36m0:00:01\u001b[0m:01\u001b[0m\n",
      "\u001b[?25hCollecting mygene\n",
      "  Downloading mygene-3.2.2-py2.py3-none-any.whl (5.4 kB)\n",
      "Collecting pooch\n",
      "  Downloading pooch-1.8.0-py3-none-any.whl (62 kB)\n",
      "\u001b[2K     \u001b[38;2;114;156;31m━━━━━━━━━━━━━━━━━━━━━━━━━━━━━━━━━━━━━━━━\u001b[0m \u001b[32m62.7/62.7 KB\u001b[0m \u001b[31m28.9 MB/s\u001b[0m eta \u001b[36m0:00:00\u001b[0m\n",
      "\u001b[?25hCollecting pandas\n",
      "  Downloading pandas-2.1.4-cp310-cp310-manylinux_2_17_x86_64.manylinux2014_x86_64.whl (12.3 MB)\n",
      "\u001b[2K     \u001b[38;2;114;156;31m━━━━━━━━━━━━━━━━━━━━━━━━━━━━━━━━━━━━━━━━\u001b[0m \u001b[32m12.3/12.3 MB\u001b[0m \u001b[31m3.2 MB/s\u001b[0m eta \u001b[36m0:00:00\u001b[0mm eta \u001b[36m0:00:01\u001b[0m[36m0:00:01\u001b[0m\n",
      "\u001b[?25hCollecting gprofiler-official\n",
      "  Downloading gprofiler_official-1.0.0-py3-none-any.whl (9.3 kB)\n",
      "Collecting tqdm\n",
      "  Downloading tqdm-4.66.1-py3-none-any.whl (78 kB)\n",
      "\u001b[2K     \u001b[38;2;114;156;31m━━━━━━━━━━━━━━━━━━━━━━━━━━━━━━━━━━━━━━━━\u001b[0m \u001b[32m78.3/78.3 KB\u001b[0m \u001b[31m3.6 MB/s\u001b[0m eta \u001b[36m0:00:00\u001b[0m\n",
      "\u001b[?25hRequirement already satisfied: numpy in /home/p0129674/.local/lib/python3.10/site-packages (from biopython>=1.80->Bio) (1.26.2)\n",
      "Collecting biothings-client>=0.2.6\n",
      "  Downloading biothings_client-0.3.1-py2.py3-none-any.whl (29 kB)\n",
      "Requirement already satisfied: python-dateutil>=2.8.2 in /usr/local/lib/python3.10/dist-packages (from pandas->Bio) (2.8.2)\n",
      "Collecting tzdata>=2022.1\n",
      "  Downloading tzdata-2023.3-py2.py3-none-any.whl (341 kB)\n",
      "\u001b[2K     \u001b[38;2;114;156;31m━━━━━━━━━━━━━━━━━━━━━━━━━━━━━━━━━━━━━━━\u001b[0m \u001b[32m341.8/341.8 KB\u001b[0m \u001b[31m3.8 MB/s\u001b[0m eta \u001b[36m0:00:00\u001b[0m[31m4.0 MB/s\u001b[0m eta \u001b[36m0:00:01\u001b[0m\n",
      "\u001b[?25hRequirement already satisfied: pytz>=2020.1 in /usr/lib/python3/dist-packages (from pandas->Bio) (2022.1)\n",
      "Requirement already satisfied: platformdirs>=2.5.0 in /usr/local/lib/python3.10/dist-packages (from pooch->Bio) (4.1.0)\n",
      "Requirement already satisfied: packaging>=20.0 in /usr/local/lib/python3.10/dist-packages (from pooch->Bio) (23.2)\n",
      "Requirement already satisfied: urllib3<3,>=1.21.1 in /usr/lib/python3/dist-packages (from requests->Bio) (1.26.5)\n",
      "Requirement already satisfied: charset-normalizer<4,>=2 in /usr/local/lib/python3.10/dist-packages (from requests->Bio) (3.3.2)\n",
      "Requirement already satisfied: idna<4,>=2.5 in /usr/lib/python3/dist-packages (from requests->Bio) (3.3)\n",
      "Requirement already satisfied: certifi>=2017.4.17 in /usr/lib/python3/dist-packages (from requests->Bio) (2020.6.20)\n",
      "Requirement already satisfied: six>=1.5 in /usr/lib/python3/dist-packages (from python-dateutil>=2.8.2->pandas->Bio) (1.16.0)\n",
      "Installing collected packages: tzdata, tqdm, biopython, pooch, pandas, gprofiler-official, biothings-client, mygene, Bio\n",
      "Successfully installed Bio-1.6.0 biopython-1.81 biothings-client-0.3.1 gprofiler-official-1.0.0 mygene-3.2.2 pandas-2.1.4 pooch-1.8.0 tqdm-4.66.1 tzdata-2023.3\n"
     ]
    }
   ],
   "source": [
    "!pip install Bio"
   ]
  },
  {
   "cell_type": "code",
   "execution_count": 3,
   "metadata": {},
   "outputs": [],
   "source": [
    "from Bio import SeqIO"
   ]
  },
  {
   "cell_type": "code",
   "execution_count": 9,
   "metadata": {},
   "outputs": [
    {
     "name": "stdout",
     "output_type": "stream",
     "text": [
      "ID: NP_197847.3\n",
      "Length: 451\n"
     ]
    }
   ],
   "source": [
    "from Bio import SeqIO\n",
    "\n",
    "# Read sequences from a FASTA file\n",
    "sequences = SeqIO.parse(\"sequence.fasta\", \"fasta\")\n",
    "\n",
    "# Iterate over the sequences and print their IDs and lengths\n",
    "for sequence in sequences:\n",
    "    print(\"ID:\", sequence.id)\n",
    "    print(\"Length:\", len(sequence))\n"
   ]
  },
  {
   "attachments": {},
   "cell_type": "markdown",
   "metadata": {},
   "source": [
    "# Calculating Sequence Properties"
   ]
  },
  {
   "cell_type": "code",
   "execution_count": 13,
   "metadata": {},
   "outputs": [
    {
     "name": "stdout",
     "output_type": "stream",
     "text": [
      "GC content: 50.0%\n"
     ]
    }
   ],
   "source": [
    "from Bio.SeqUtils import GC\n",
    "\n",
    "sequence = \"ATGCTGACTAGCTAGCTAGC\"\n",
    "gc_content = GC(sequence)\n",
    "print(f\"GC content: {gc_content}%\")"
   ]
  },
  {
   "attachments": {},
   "cell_type": "markdown",
   "metadata": {},
   "source": [
    "# Sequence Alignment"
   ]
  },
  {
   "cell_type": "code",
   "execution_count": 5,
   "metadata": {},
   "outputs": [
    {
     "name": "stdout",
     "output_type": "stream",
     "text": [
      "Aligned Sequence 1: ACGT\n",
      "Aligned Sequence 2: A-GT\n",
      "Score: 3.0\n",
      "\n"
     ]
    }
   ],
   "source": [
    "from Bio import pairwise2\n",
    "\n",
    "seq1 = \"ACGT\"\n",
    "seq2 = \"AGT\"\n",
    "\n",
    "alignments = pairwise2.align.globalxx(seq1, seq2)\n",
    "\n",
    "for alignment in alignments:\n",
    "    print(\"Aligned Sequence 1:\", alignment.seqA)\n",
    "    print(\"Aligned Sequence 2:\", alignment.seqB)\n",
    "    print(\"Score:\", alignment.score)\n",
    "    print()"
   ]
  },
  {
   "cell_type": "markdown",
   "metadata": {},
   "source": [
    "# Local Alignment"
   ]
  },
  {
   "cell_type": "code",
   "execution_count": 1,
   "metadata": {},
   "outputs": [
    {
     "name": "stdout",
     "output_type": "stream",
     "text": [
      "4 GAGCTAGC\n",
      "  |.||||||\n",
      "3 GGGCTAGC\n",
      "  Score=13\n",
      "\n"
     ]
    }
   ],
   "source": [
    "from Bio import pairwise2\n",
    "from Bio.pairwise2 import format_alignment\n",
    "\n",
    "# Define the scoring system (match, mismatch, gap open, gap extension)\n",
    "match_score = 2\n",
    "mismatch_score = -1\n",
    "gap_open_score = -5\n",
    "gap_extension_score = -0.5\n",
    "\n",
    "# Sample sequences (replace these with your own sequences)\n",
    "seq1 = \"ATCGAGCTAGC\"\n",
    "seq2 = \"ATGGGCTAGC\"\n",
    "\n",
    "# Perform local alignment\n",
    "alignments = pairwise2.align.localms(seq1, seq2, match_score, mismatch_score, gap_open_score, gap_extension_score)\n",
    "\n",
    "# Print the alignments\n",
    "for alignment in alignments:\n",
    "    print(format_alignment(*alignment))\n"
   ]
  },
  {
   "cell_type": "markdown",
   "metadata": {},
   "source": [
    "# Gloabal Alignment"
   ]
  },
  {
   "cell_type": "code",
   "execution_count": 2,
   "metadata": {},
   "outputs": [
    {
     "name": "stdout",
     "output_type": "stream",
     "text": [
      "ATCGAGCTAGC\n",
      "|| |.||||||\n",
      "AT-GGGCTAGC\n",
      "  Score=12\n",
      "\n",
      "ATCGAGCTAGC\n",
      "||.| ||||||\n",
      "ATGG-GCTAGC\n",
      "  Score=12\n",
      "\n"
     ]
    }
   ],
   "source": [
    "from Bio import pairwise2\n",
    "from Bio.pairwise2 import format_alignment\n",
    "\n",
    "# Define the scoring system (match, mismatch, gap open, gap extension)\n",
    "match_score = 2\n",
    "mismatch_score = -1\n",
    "gap_open_score = -5\n",
    "gap_extension_score = -0.5\n",
    "\n",
    "# Sample sequences (replace these with your own sequences)\n",
    "seq1 = \"ATCGAGCTAGC\"\n",
    "seq2 = \"ATGGGCTAGC\"\n",
    "\n",
    "# Perform global alignment\n",
    "alignments = pairwise2.align.globalms(seq1, seq2, match_score, mismatch_score, gap_open_score, gap_extension_score)\n",
    "\n",
    "# Print the alignments\n",
    "for alignment in alignments:\n",
    "    print(format_alignment(*alignment))\n"
   ]
  },
  {
   "attachments": {},
   "cell_type": "markdown",
   "metadata": {},
   "source": [
    "## Performing Multiple Sequence Alignment (MSA)"
   ]
  },
  {
   "cell_type": "code",
   "execution_count": 8,
   "metadata": {},
   "outputs": [
    {
     "name": "stdout",
     "output_type": "stream",
     "text": [
      "Alignment with 3 rows and 20 columns\n",
      "ATGCTGACTAGCTAGCTAGC Seq1\n",
      "ATGCTGACTAGCTAGCTGGC Seq2\n",
      "ATGCTGACTAGCTAGCTTGC Seq3\n"
     ]
    }
   ],
   "source": [
    "from Bio.Align import MultipleSeqAlignment\n",
    "from Bio import AlignIO\n",
    "from Bio.Seq import Seq\n",
    "from Bio.SeqRecord import SeqRecord\n",
    "\n",
    "# Define the sequences\n",
    "sequences = [\n",
    "    SeqRecord(Seq(\"ATGCTGACTAGCTAGCTAGC\"), id=\"Seq1\"),\n",
    "    SeqRecord(Seq(\"ATGCTGACTAGCTAGCTGGC\"), id=\"Seq2\"),\n",
    "    SeqRecord(Seq(\"ATGCTGACTAGCTAGCTTGC\"), id=\"Seq3\")\n",
    "]\n",
    "\n",
    "# Create a MultipleSeqAlignment object\n",
    "alignment = MultipleSeqAlignment(sequences)\n",
    "\n",
    "# Save the alignment to a file\n",
    "AlignIO.write(alignment, \"alignment.fasta\", \"fasta\")\n",
    "\n",
    "# Print the alignment\n",
    "print(alignment)"
   ]
  },
  {
   "attachments": {},
   "cell_type": "markdown",
   "metadata": {},
   "source": [
    "# Searching for Motifs"
   ]
  },
  {
   "cell_type": "code",
   "execution_count": 7,
   "metadata": {},
   "outputs": [
    {
     "name": "stdout",
     "output_type": "stream",
     "text": [
      "Motif Matches: 3\n"
     ]
    }
   ],
   "source": [
    "import re\n",
    "from Bio.Seq import Seq\n",
    "\n",
    "sequence = Seq(\"ATGCTGACTAGCTAGCTAGC\")\n",
    "motif = \"CTG\"\n",
    "\n",
    "matches = [match.start() for match in re.finditer(motif, str(sequence))]\n",
    "print(\"Motif Matches:\", \", \".join(map(str, matches)))"
   ]
  },
  {
   "attachments": {},
   "cell_type": "markdown",
   "metadata": {},
   "source": [
    "# Transcription and Translation"
   ]
  },
  {
   "cell_type": "code",
   "execution_count": 8,
   "metadata": {},
   "outputs": [
    {
     "name": "stdout",
     "output_type": "stream",
     "text": [
      "DNA Sequence: ATGCTGACTAGCTAGCTAGC\n",
      "RNA Sequence: AUGCUGACUAGCUAGCUAGC\n",
      "Protein Sequence: MLTS*L\n"
     ]
    },
    {
     "name": "stderr",
     "output_type": "stream",
     "text": [
      "c:\\Users\\92318\\AppData\\Local\\Programs\\Python\\Python310\\lib\\site-packages\\Bio\\Seq.py:2979: BiopythonWarning: Partial codon, len(sequence) not a multiple of three. Explicitly trim the sequence or add trailing N before translation. This may become an error in future.\n",
      "  warnings.warn(\n"
     ]
    }
   ],
   "source": [
    "from Bio.Seq import Seq\n",
    "\n",
    "dna_sequence = Seq(\"ATGCTGACTAGCTAGCTAGC\")\n",
    "rna_sequence = dna_sequence.transcribe()\n",
    "protein_sequence = rna_sequence.translate()\n",
    "\n",
    "print(\"DNA Sequence:\", dna_sequence)\n",
    "print(\"RNA Sequence:\", rna_sequence)\n",
    "print(\"Protein Sequence:\", protein_sequence)"
   ]
  },
  {
   "attachments": {},
   "cell_type": "markdown",
   "metadata": {},
   "source": [
    "# Calculating Molecular Weight"
   ]
  },
  {
   "cell_type": "code",
   "execution_count": 9,
   "metadata": {},
   "outputs": [
    {
     "name": "stdout",
     "output_type": "stream",
     "text": [
      "Molecular Weight: 6196.952300000001\n"
     ]
    }
   ],
   "source": [
    "# Importing necessary functions and classes from Biopython\n",
    "from Bio.SeqUtils import molecular_weight\n",
    "from Bio.Seq import Seq\n",
    "\n",
    "# Defining a DNA sequence using the Seq class\n",
    "sequence = Seq(\"ATGCTGACTAGCTAGCTAGC\")\n",
    "\n",
    "# Calculating the molecular weight of the DNA sequence using the molecular_weight function\n",
    "weight = molecular_weight(sequence)\n",
    "\n",
    "# Printing the calculated molecular weight\n",
    "print(\"Molecular Weight:\", weight)"
   ]
  },
  {
   "attachments": {},
   "cell_type": "markdown",
   "metadata": {},
   "source": [
    "# Blast for Organism Identification"
   ]
  },
  {
   "cell_type": "code",
   "execution_count": 3,
   "metadata": {},
   "outputs": [
    {
     "name": "stdout",
     "output_type": "stream",
     "text": [
      "Organism: Poeciliopsis prolifica\n"
     ]
    }
   ],
   "source": [
    "from Bio.Blast import NCBIWWW\n",
    "from Bio.Blast import NCBIXML\n",
    "from Bio import Entrez\n",
    "import re\n",
    "\n",
    "# Set the BLAST parameters\n",
    "program = \"blastp\"  # BLAST program (e.g., blastp, blastn, etc.)\n",
    "database = \"nr\"  # BLAST database (e.g., nr, nt, etc.)\n",
    "query_sequence = \"JAO23553.1\"  # Query sequence accession or identifier\n",
    "\n",
    "# Perform BLAST search\n",
    "result_handle = NCBIWWW.qblast(program, database, query_sequence)\n",
    "\n",
    "# Read and parse the BLAST results\n",
    "blast_record = NCBIXML.read(result_handle)\n",
    "\n",
    "# Get the description of the top hit\n",
    "top_hit_description = blast_record.alignments[0].title\n",
    "\n",
    "# Extract the organism information from the description using regular expressions\n",
    "organism_match = re.search(r'\\[.*?\\]', top_hit_description)\n",
    "if organism_match:\n",
    "    organism = organism_match.group(0).strip(\"[]\")\n",
    "else:\n",
    "    organism = \"Organism information not available\"\n",
    "\n",
    "# Print the organism information\n",
    "print(\"Organism:\", organism)\n",
    "\n",
    "# Save the BLAST results to a file\n",
    "with open(\"blast_results.xml\", \"w\") as out_handle:\n",
    "    out_handle.write(result_handle.read())\n",
    "\n",
    "# Close the result handle\n",
    "result_handle.close()\n"
   ]
  }
 ],
 "metadata": {
  "kernelspec": {
   "display_name": "Python 3 (ipykernel)",
   "language": "python",
   "name": "python3"
  },
  "language_info": {
   "codemirror_mode": {
    "name": "ipython",
    "version": 3
   },
   "file_extension": ".py",
   "mimetype": "text/x-python",
   "name": "python",
   "nbconvert_exporter": "python",
   "pygments_lexer": "ipython3",
   "version": "3.10.12"
  }
 },
 "nbformat": 4,
 "nbformat_minor": 4
}
